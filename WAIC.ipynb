{
 "cells": [
  {
   "cell_type": "markdown",
   "id": "9cbdce1b-11eb-419f-bd1c-da6c8bef8b0a",
   "metadata": {},
   "source": [
    "# Part 1: Inference with PyMC"
   ]
  },
  {
   "cell_type": "code",
   "execution_count": 4,
   "id": "c0b864c1-aab1-4039-b44f-29b4b4fd2dc0",
   "metadata": {},
   "outputs": [
    {
     "name": "stderr",
     "output_type": "stream",
     "text": [
      "Auto-assigning NUTS sampler...\n",
      "Initializing NUTS using jitter+adapt_diag...\n",
      "Sequential sampling (1 chains in 1 job)\n",
      "NUTS: [alpha, beta, p_heads]\n"
     ]
    },
    {
     "data": {
      "text/html": [
       "\n",
       "<style>\n",
       "    /* Turns off some styling */\n",
       "    progress {\n",
       "        /* gets rid of default border in Firefox and Opera. */\n",
       "        border: none;\n",
       "        /* Needs to be in here for Safari polyfill so background images work as expected. */\n",
       "        background-size: auto;\n",
       "    }\n",
       "    progress:not([value]), progress:not([value])::-webkit-progress-bar {\n",
       "        background: repeating-linear-gradient(45deg, #7e7e7e, #7e7e7e 10px, #5c5c5c 10px, #5c5c5c 20px);\n",
       "    }\n",
       "    .progress-bar-interrupted, .progress-bar-interrupted::-webkit-progress-bar {\n",
       "        background: #F44336;\n",
       "    }\n",
       "</style>\n"
      ],
      "text/plain": [
       "<IPython.core.display.HTML object>"
      ]
     },
     "metadata": {},
     "output_type": "display_data"
    },
    {
     "data": {
      "text/html": [
       "\n",
       "    <div>\n",
       "      <progress value='2500' class='' max='2500' style='width:300px; height:20px; vertical-align: middle;'></progress>\n",
       "      100.00% [2500/2500 00:10&lt;00:00 Sampling chain 0, 0 divergences]\n",
       "    </div>\n",
       "    "
      ],
      "text/plain": [
       "<IPython.core.display.HTML object>"
      ]
     },
     "metadata": {},
     "output_type": "display_data"
    },
    {
     "name": "stderr",
     "output_type": "stream",
     "text": [
      "Sampling 1 chain for 500 tune and 2_000 draw iterations (500 + 2_000 draws total) took 10 seconds.\n",
      "Only one chain was sampled, this makes it impossible to run some convergence checks\n"
     ]
    },
    {
     "data": {
      "text/html": [
       "\n",
       "<style>\n",
       "    /* Turns off some styling */\n",
       "    progress {\n",
       "        /* gets rid of default border in Firefox and Opera. */\n",
       "        border: none;\n",
       "        /* Needs to be in here for Safari polyfill so background images work as expected. */\n",
       "        background-size: auto;\n",
       "    }\n",
       "    progress:not([value]), progress:not([value])::-webkit-progress-bar {\n",
       "        background: repeating-linear-gradient(45deg, #7e7e7e, #7e7e7e 10px, #5c5c5c 10px, #5c5c5c 20px);\n",
       "    }\n",
       "    .progress-bar-interrupted, .progress-bar-interrupted::-webkit-progress-bar {\n",
       "        background: #F44336;\n",
       "    }\n",
       "</style>\n"
      ],
      "text/plain": [
       "<IPython.core.display.HTML object>"
      ]
     },
     "metadata": {},
     "output_type": "display_data"
    },
    {
     "data": {
      "text/html": [
       "\n",
       "    <div>\n",
       "      <progress value='2000' class='' max='2000' style='width:300px; height:20px; vertical-align: middle;'></progress>\n",
       "      100.00% [2000/2000 00:00&lt;00:00]\n",
       "    </div>\n",
       "    "
      ],
      "text/plain": [
       "<IPython.core.display.HTML object>"
      ]
     },
     "metadata": {},
     "output_type": "display_data"
    },
    {
     "name": "stdout",
     "output_type": "stream",
     "text": [
      "Computed from 2000 posterior samples and 10000 observations log-likelihood matrix.\n",
      "\n",
      "          Estimate       SE\n",
      "elpd_waic -3413.37    66.12\n",
      "p_waic       77.71        -\n"
     ]
    },
    {
     "name": "stderr",
     "output_type": "stream",
     "text": [
      "arviz - WARNING - Shape validation failed: input_shape: (1, 2000), minimum_shape: (chains=2, draws=4)\n"
     ]
    },
    {
     "name": "stdout",
     "output_type": "stream",
     "text": [
      "waic=6826.74\n"
     ]
    },
    {
     "data": {
      "text/html": [
       "<div>\n",
       "<style scoped>\n",
       "    .dataframe tbody tr th:only-of-type {\n",
       "        vertical-align: middle;\n",
       "    }\n",
       "\n",
       "    .dataframe tbody tr th {\n",
       "        vertical-align: top;\n",
       "    }\n",
       "\n",
       "    .dataframe thead th {\n",
       "        text-align: right;\n",
       "    }\n",
       "</style>\n",
       "<table border=\"1\" class=\"dataframe\">\n",
       "  <thead>\n",
       "    <tr style=\"text-align: right;\">\n",
       "      <th></th>\n",
       "      <th>mean</th>\n",
       "      <th>sd</th>\n",
       "      <th>hdi_3%</th>\n",
       "      <th>hdi_97%</th>\n",
       "      <th>mcse_mean</th>\n",
       "      <th>mcse_sd</th>\n",
       "      <th>ess_bulk</th>\n",
       "      <th>ess_tail</th>\n",
       "      <th>r_hat</th>\n",
       "    </tr>\n",
       "  </thead>\n",
       "  <tbody>\n",
       "    <tr>\n",
       "      <th>alpha</th>\n",
       "      <td>3.512</td>\n",
       "      <td>0.501</td>\n",
       "      <td>2.582</td>\n",
       "      <td>4.430</td>\n",
       "      <td>0.009</td>\n",
       "      <td>0.007</td>\n",
       "      <td>2833.0</td>\n",
       "      <td>1604.0</td>\n",
       "      <td>NaN</td>\n",
       "    </tr>\n",
       "    <tr>\n",
       "      <th>beta</th>\n",
       "      <td>26.810</td>\n",
       "      <td>4.068</td>\n",
       "      <td>19.531</td>\n",
       "      <td>34.672</td>\n",
       "      <td>0.075</td>\n",
       "      <td>0.054</td>\n",
       "      <td>2980.0</td>\n",
       "      <td>1638.0</td>\n",
       "      <td>NaN</td>\n",
       "    </tr>\n",
       "    <tr>\n",
       "      <th>p_heads[0]</th>\n",
       "      <td>0.126</td>\n",
       "      <td>0.029</td>\n",
       "      <td>0.076</td>\n",
       "      <td>0.179</td>\n",
       "      <td>0.000</td>\n",
       "      <td>0.000</td>\n",
       "      <td>3922.0</td>\n",
       "      <td>1373.0</td>\n",
       "      <td>NaN</td>\n",
       "    </tr>\n",
       "    <tr>\n",
       "      <th>p_heads[1]</th>\n",
       "      <td>0.119</td>\n",
       "      <td>0.030</td>\n",
       "      <td>0.067</td>\n",
       "      <td>0.181</td>\n",
       "      <td>0.000</td>\n",
       "      <td>0.000</td>\n",
       "      <td>4119.0</td>\n",
       "      <td>1372.0</td>\n",
       "      <td>NaN</td>\n",
       "    </tr>\n",
       "    <tr>\n",
       "      <th>p_heads[2]</th>\n",
       "      <td>0.088</td>\n",
       "      <td>0.025</td>\n",
       "      <td>0.043</td>\n",
       "      <td>0.133</td>\n",
       "      <td>0.000</td>\n",
       "      <td>0.000</td>\n",
       "      <td>4975.0</td>\n",
       "      <td>1553.0</td>\n",
       "      <td>NaN</td>\n",
       "    </tr>\n",
       "    <tr>\n",
       "      <th>...</th>\n",
       "      <td>...</td>\n",
       "      <td>...</td>\n",
       "      <td>...</td>\n",
       "      <td>...</td>\n",
       "      <td>...</td>\n",
       "      <td>...</td>\n",
       "      <td>...</td>\n",
       "      <td>...</td>\n",
       "      <td>...</td>\n",
       "    </tr>\n",
       "    <tr>\n",
       "      <th>p_heads[95]</th>\n",
       "      <td>0.081</td>\n",
       "      <td>0.025</td>\n",
       "      <td>0.038</td>\n",
       "      <td>0.129</td>\n",
       "      <td>0.000</td>\n",
       "      <td>0.000</td>\n",
       "      <td>4161.0</td>\n",
       "      <td>1208.0</td>\n",
       "      <td>NaN</td>\n",
       "    </tr>\n",
       "    <tr>\n",
       "      <th>p_heads[96]</th>\n",
       "      <td>0.095</td>\n",
       "      <td>0.026</td>\n",
       "      <td>0.044</td>\n",
       "      <td>0.142</td>\n",
       "      <td>0.000</td>\n",
       "      <td>0.000</td>\n",
       "      <td>5773.0</td>\n",
       "      <td>1397.0</td>\n",
       "      <td>NaN</td>\n",
       "    </tr>\n",
       "    <tr>\n",
       "      <th>p_heads[97]</th>\n",
       "      <td>0.081</td>\n",
       "      <td>0.024</td>\n",
       "      <td>0.039</td>\n",
       "      <td>0.127</td>\n",
       "      <td>0.000</td>\n",
       "      <td>0.000</td>\n",
       "      <td>4725.0</td>\n",
       "      <td>1312.0</td>\n",
       "      <td>NaN</td>\n",
       "    </tr>\n",
       "    <tr>\n",
       "      <th>p_heads[98]</th>\n",
       "      <td>0.135</td>\n",
       "      <td>0.029</td>\n",
       "      <td>0.081</td>\n",
       "      <td>0.187</td>\n",
       "      <td>0.000</td>\n",
       "      <td>0.000</td>\n",
       "      <td>4223.0</td>\n",
       "      <td>1404.0</td>\n",
       "      <td>NaN</td>\n",
       "    </tr>\n",
       "    <tr>\n",
       "      <th>p_heads[99]</th>\n",
       "      <td>0.119</td>\n",
       "      <td>0.030</td>\n",
       "      <td>0.065</td>\n",
       "      <td>0.174</td>\n",
       "      <td>0.000</td>\n",
       "      <td>0.000</td>\n",
       "      <td>4745.0</td>\n",
       "      <td>1492.0</td>\n",
       "      <td>NaN</td>\n",
       "    </tr>\n",
       "  </tbody>\n",
       "</table>\n",
       "<p>102 rows × 9 columns</p>\n",
       "</div>"
      ],
      "text/plain": [
       "               mean     sd  hdi_3%  hdi_97%  mcse_mean  mcse_sd  ess_bulk  \\\n",
       "alpha         3.512  0.501   2.582    4.430      0.009    0.007    2833.0   \n",
       "beta         26.810  4.068  19.531   34.672      0.075    0.054    2980.0   \n",
       "p_heads[0]    0.126  0.029   0.076    0.179      0.000    0.000    3922.0   \n",
       "p_heads[1]    0.119  0.030   0.067    0.181      0.000    0.000    4119.0   \n",
       "p_heads[2]    0.088  0.025   0.043    0.133      0.000    0.000    4975.0   \n",
       "...             ...    ...     ...      ...        ...      ...       ...   \n",
       "p_heads[95]   0.081  0.025   0.038    0.129      0.000    0.000    4161.0   \n",
       "p_heads[96]   0.095  0.026   0.044    0.142      0.000    0.000    5773.0   \n",
       "p_heads[97]   0.081  0.024   0.039    0.127      0.000    0.000    4725.0   \n",
       "p_heads[98]   0.135  0.029   0.081    0.187      0.000    0.000    4223.0   \n",
       "p_heads[99]   0.119  0.030   0.065    0.174      0.000    0.000    4745.0   \n",
       "\n",
       "             ess_tail  r_hat  \n",
       "alpha          1604.0    NaN  \n",
       "beta           1638.0    NaN  \n",
       "p_heads[0]     1373.0    NaN  \n",
       "p_heads[1]     1372.0    NaN  \n",
       "p_heads[2]     1553.0    NaN  \n",
       "...               ...    ...  \n",
       "p_heads[95]    1208.0    NaN  \n",
       "p_heads[96]    1397.0    NaN  \n",
       "p_heads[97]    1312.0    NaN  \n",
       "p_heads[98]    1404.0    NaN  \n",
       "p_heads[99]    1492.0    NaN  \n",
       "\n",
       "[102 rows x 9 columns]"
      ]
     },
     "execution_count": 4,
     "metadata": {},
     "output_type": "execute_result"
    }
   ],
   "source": [
    "import pymc as pm\n",
    "import arviz as az\n",
    "import numpy as np\n",
    "import pytensor.tensor as pt\n",
    "\n",
    "num_trials = 100\n",
    "num_agents = 100\n",
    "\n",
    "def run_coin_inference(num_trials, num_agents):\n",
    "\n",
    "    phead = 0.11\n",
    "    \n",
    "\n",
    "    true_p_heads = np.array([phead]*num_agents)\n",
    "    \n",
    "    observed_heads = np.random.choice([0,1], size=(num_agents, num_trials), \n",
    "                                      replace = True, \n",
    "                                      p=[1-phead, phead]).flatten().astype(float)\n",
    "    \n",
    "    vector = np.array([i for i in range(num_agents) for _ in range(num_trials)])\n",
    "    \n",
    "    with pm.Model() as hierarchical_model:\n",
    "        # Hyperpriors for the group parameters\n",
    "        alpha = pm.Gamma('alpha', alpha=1, beta=1)\n",
    "        beta = pm.Gamma('beta', alpha=1, beta=1)\n",
    "        \n",
    "        # Individual participant probabilities of heads\n",
    "        p_heads = pm.Beta('p_heads', alpha=alpha, beta=beta, shape=num_agents)\n",
    "        \n",
    "        # Likelihood of observed data\n",
    "        observations = pm.Bernoulli('observations', \n",
    "                                      p = p_heads[vector], \n",
    "                                      observed = observed_heads)\n",
    "        \n",
    "        # Posterior sampling\n",
    "        # trace = pm.sample(2000, return_inferencedata=True, target_accept=0.95)\n",
    "        trace = pm.sample(chains = 1, draws = 2_000, tune = 5_00)\n",
    "        pm.compute_log_likelihood(trace)\n",
    "    \n",
    "    \n",
    "    print(az.waic(trace))\n",
    "    waic = -2*az.waic(trace)['elpd_waic']\n",
    "    print(\"waic=%.2f\"%waic)\n",
    "\n",
    "    return trace, waic\n",
    "\n",
    "trace, _ = run_coin_inference(num_trials = 100, num_agents = 100)\n",
    "\n",
    "az.summary(trace)"
   ]
  },
  {
   "cell_type": "code",
   "execution_count": 2,
   "id": "75cc0235-c403-408c-920f-154d2ab89016",
   "metadata": {},
   "outputs": [
    {
     "name": "stderr",
     "output_type": "stream",
     "text": [
      "arviz - WARNING - Shape validation failed: input_shape: (1, 2000), minimum_shape: (chains=2, draws=4)\n"
     ]
    },
    {
     "name": "stdout",
     "output_type": "stream",
     "text": [
      "mean            0.11467\n",
      "sd              0.02770\n",
      "hdi_3%          0.06517\n",
      "hdi_97%         0.16645\n",
      "mcse_mean       0.00002\n",
      "mcse_sd         0.00000\n",
      "ess_bulk     4797.95000\n",
      "ess_tail     1346.44000\n",
      "r_hat               NaN\n",
      "dtype: float64\n"
     ]
    }
   ],
   "source": [
    "print(az.summary(trace, var_names = ['p_heads']).mean())"
   ]
  },
  {
   "cell_type": "markdown",
   "id": "88766fc8-9229-463b-a28e-231f35ac1ca8",
   "metadata": {},
   "source": [
    "## Let's see how the WAIC changes with different numbers of trials"
   ]
  },
  {
   "cell_type": "code",
   "execution_count": 6,
   "id": "c47de400-3dc6-437c-bd30-48648d9a2698",
   "metadata": {},
   "outputs": [
    {
     "name": "stderr",
     "output_type": "stream",
     "text": [
      "Auto-assigning NUTS sampler...\n",
      "Initializing NUTS using jitter+adapt_diag...\n",
      "Sequential sampling (1 chains in 1 job)\n",
      "NUTS: [alpha, beta, p_heads]\n"
     ]
    },
    {
     "data": {
      "text/html": [
       "\n",
       "<style>\n",
       "    /* Turns off some styling */\n",
       "    progress {\n",
       "        /* gets rid of default border in Firefox and Opera. */\n",
       "        border: none;\n",
       "        /* Needs to be in here for Safari polyfill so background images work as expected. */\n",
       "        background-size: auto;\n",
       "    }\n",
       "    progress:not([value]), progress:not([value])::-webkit-progress-bar {\n",
       "        background: repeating-linear-gradient(45deg, #7e7e7e, #7e7e7e 10px, #5c5c5c 10px, #5c5c5c 20px);\n",
       "    }\n",
       "    .progress-bar-interrupted, .progress-bar-interrupted::-webkit-progress-bar {\n",
       "        background: #F44336;\n",
       "    }\n",
       "</style>\n"
      ],
      "text/plain": [
       "<IPython.core.display.HTML object>"
      ]
     },
     "metadata": {},
     "output_type": "display_data"
    },
    {
     "data": {
      "text/html": [
       "\n",
       "    <div>\n",
       "      <progress value='2500' class='' max='2500' style='width:300px; height:20px; vertical-align: middle;'></progress>\n",
       "      100.00% [2500/2500 00:08&lt;00:00 Sampling chain 0, 1 divergences]\n",
       "    </div>\n",
       "    "
      ],
      "text/plain": [
       "<IPython.core.display.HTML object>"
      ]
     },
     "metadata": {},
     "output_type": "display_data"
    },
    {
     "name": "stderr",
     "output_type": "stream",
     "text": [
      "Sampling 1 chain for 500 tune and 2_000 draw iterations (500 + 2_000 draws total) took 9 seconds.\n",
      "Only one chain was sampled, this makes it impossible to run some convergence checks\n"
     ]
    },
    {
     "data": {
      "text/html": [
       "\n",
       "<style>\n",
       "    /* Turns off some styling */\n",
       "    progress {\n",
       "        /* gets rid of default border in Firefox and Opera. */\n",
       "        border: none;\n",
       "        /* Needs to be in here for Safari polyfill so background images work as expected. */\n",
       "        background-size: auto;\n",
       "    }\n",
       "    progress:not([value]), progress:not([value])::-webkit-progress-bar {\n",
       "        background: repeating-linear-gradient(45deg, #7e7e7e, #7e7e7e 10px, #5c5c5c 10px, #5c5c5c 20px);\n",
       "    }\n",
       "    .progress-bar-interrupted, .progress-bar-interrupted::-webkit-progress-bar {\n",
       "        background: #F44336;\n",
       "    }\n",
       "</style>\n"
      ],
      "text/plain": [
       "<IPython.core.display.HTML object>"
      ]
     },
     "metadata": {},
     "output_type": "display_data"
    },
    {
     "data": {
      "text/html": [
       "\n",
       "    <div>\n",
       "      <progress value='2000' class='' max='2000' style='width:300px; height:20px; vertical-align: middle;'></progress>\n",
       "      100.00% [2000/2000 00:00&lt;00:00]\n",
       "    </div>\n",
       "    "
      ],
      "text/plain": [
       "<IPython.core.display.HTML object>"
      ]
     },
     "metadata": {},
     "output_type": "display_data"
    },
    {
     "name": "stderr",
     "output_type": "stream",
     "text": [
      "/home/sascha/miniforge3/envs/pymc/lib/python3.11/site-packages/arviz/stats/stats.py:1645: UserWarning: For one or more samples the posterior variance of the log predictive densities exceeds 0.4. This could be indication of WAIC starting to fail. \n",
      "See http://arxiv.org/abs/1507.04544 for details\n",
      "  warnings.warn(\n",
      "/home/sascha/miniforge3/envs/pymc/lib/python3.11/site-packages/arviz/stats/stats.py:1645: UserWarning: For one or more samples the posterior variance of the log predictive densities exceeds 0.4. This could be indication of WAIC starting to fail. \n",
      "See http://arxiv.org/abs/1507.04544 for details\n",
      "  warnings.warn(\n",
      "/home/sascha/miniforge3/envs/pymc/lib/python3.11/site-packages/arviz/stats/stats.py:1645: UserWarning: For one or more samples the posterior variance of the log predictive densities exceeds 0.4. This could be indication of WAIC starting to fail. \n",
      "See http://arxiv.org/abs/1507.04544 for details\n",
      "  warnings.warn(\n"
     ]
    },
    {
     "name": "stdout",
     "output_type": "stream",
     "text": [
      "Computed from 2000 posterior samples and 100 observations log-likelihood matrix.\n",
      "\n",
      "          Estimate       SE\n",
      "elpd_waic   -22.39     4.35\n",
      "p_waic       11.61        -\n",
      "\n",
      "There has been a warning during the calculation. Please check the results.\n",
      "waic=44.79\n"
     ]
    },
    {
     "name": "stderr",
     "output_type": "stream",
     "text": [
      "Auto-assigning NUTS sampler...\n",
      "Initializing NUTS using jitter+adapt_diag...\n",
      "Sequential sampling (1 chains in 1 job)\n",
      "NUTS: [alpha, beta, p_heads]\n"
     ]
    },
    {
     "data": {
      "text/html": [
       "\n",
       "<style>\n",
       "    /* Turns off some styling */\n",
       "    progress {\n",
       "        /* gets rid of default border in Firefox and Opera. */\n",
       "        border: none;\n",
       "        /* Needs to be in here for Safari polyfill so background images work as expected. */\n",
       "        background-size: auto;\n",
       "    }\n",
       "    progress:not([value]), progress:not([value])::-webkit-progress-bar {\n",
       "        background: repeating-linear-gradient(45deg, #7e7e7e, #7e7e7e 10px, #5c5c5c 10px, #5c5c5c 20px);\n",
       "    }\n",
       "    .progress-bar-interrupted, .progress-bar-interrupted::-webkit-progress-bar {\n",
       "        background: #F44336;\n",
       "    }\n",
       "</style>\n"
      ],
      "text/plain": [
       "<IPython.core.display.HTML object>"
      ]
     },
     "metadata": {},
     "output_type": "display_data"
    },
    {
     "data": {
      "text/html": [
       "\n",
       "    <div>\n",
       "      <progress value='2500' class='' max='2500' style='width:300px; height:20px; vertical-align: middle;'></progress>\n",
       "      100.00% [2500/2500 00:04&lt;00:00 Sampling chain 0, 0 divergences]\n",
       "    </div>\n",
       "    "
      ],
      "text/plain": [
       "<IPython.core.display.HTML object>"
      ]
     },
     "metadata": {},
     "output_type": "display_data"
    },
    {
     "name": "stderr",
     "output_type": "stream",
     "text": [
      "Sampling 1 chain for 500 tune and 2_000 draw iterations (500 + 2_000 draws total) took 4 seconds.\n",
      "Only one chain was sampled, this makes it impossible to run some convergence checks\n"
     ]
    },
    {
     "data": {
      "text/html": [
       "\n",
       "<style>\n",
       "    /* Turns off some styling */\n",
       "    progress {\n",
       "        /* gets rid of default border in Firefox and Opera. */\n",
       "        border: none;\n",
       "        /* Needs to be in here for Safari polyfill so background images work as expected. */\n",
       "        background-size: auto;\n",
       "    }\n",
       "    progress:not([value]), progress:not([value])::-webkit-progress-bar {\n",
       "        background: repeating-linear-gradient(45deg, #7e7e7e, #7e7e7e 10px, #5c5c5c 10px, #5c5c5c 20px);\n",
       "    }\n",
       "    .progress-bar-interrupted, .progress-bar-interrupted::-webkit-progress-bar {\n",
       "        background: #F44336;\n",
       "    }\n",
       "</style>\n"
      ],
      "text/plain": [
       "<IPython.core.display.HTML object>"
      ]
     },
     "metadata": {},
     "output_type": "display_data"
    },
    {
     "data": {
      "text/html": [
       "\n",
       "    <div>\n",
       "      <progress value='2000' class='' max='2000' style='width:300px; height:20px; vertical-align: middle;'></progress>\n",
       "      100.00% [2000/2000 00:00&lt;00:00]\n",
       "    </div>\n",
       "    "
      ],
      "text/plain": [
       "<IPython.core.display.HTML object>"
      ]
     },
     "metadata": {},
     "output_type": "display_data"
    },
    {
     "name": "stderr",
     "output_type": "stream",
     "text": [
      "/home/sascha/miniforge3/envs/pymc/lib/python3.11/site-packages/arviz/stats/stats.py:1645: UserWarning: For one or more samples the posterior variance of the log predictive densities exceeds 0.4. This could be indication of WAIC starting to fail. \n",
      "See http://arxiv.org/abs/1507.04544 for details\n",
      "  warnings.warn(\n",
      "/home/sascha/miniforge3/envs/pymc/lib/python3.11/site-packages/arviz/stats/stats.py:1645: UserWarning: For one or more samples the posterior variance of the log predictive densities exceeds 0.4. This could be indication of WAIC starting to fail. \n",
      "See http://arxiv.org/abs/1507.04544 for details\n",
      "  warnings.warn(\n",
      "/home/sascha/miniforge3/envs/pymc/lib/python3.11/site-packages/arviz/stats/stats.py:1645: UserWarning: For one or more samples the posterior variance of the log predictive densities exceeds 0.4. This could be indication of WAIC starting to fail. \n",
      "See http://arxiv.org/abs/1507.04544 for details\n",
      "  warnings.warn(\n"
     ]
    },
    {
     "name": "stdout",
     "output_type": "stream",
     "text": [
      "Computed from 2000 posterior samples and 300 observations log-likelihood matrix.\n",
      "\n",
      "          Estimate       SE\n",
      "elpd_waic  -117.78    11.05\n",
      "p_waic       27.77        -\n",
      "\n",
      "There has been a warning during the calculation. Please check the results.\n",
      "waic=235.57\n"
     ]
    },
    {
     "name": "stderr",
     "output_type": "stream",
     "text": [
      "Auto-assigning NUTS sampler...\n",
      "Initializing NUTS using jitter+adapt_diag...\n",
      "Sequential sampling (1 chains in 1 job)\n",
      "NUTS: [alpha, beta, p_heads]\n"
     ]
    },
    {
     "data": {
      "text/html": [
       "\n",
       "<style>\n",
       "    /* Turns off some styling */\n",
       "    progress {\n",
       "        /* gets rid of default border in Firefox and Opera. */\n",
       "        border: none;\n",
       "        /* Needs to be in here for Safari polyfill so background images work as expected. */\n",
       "        background-size: auto;\n",
       "    }\n",
       "    progress:not([value]), progress:not([value])::-webkit-progress-bar {\n",
       "        background: repeating-linear-gradient(45deg, #7e7e7e, #7e7e7e 10px, #5c5c5c 10px, #5c5c5c 20px);\n",
       "    }\n",
       "    .progress-bar-interrupted, .progress-bar-interrupted::-webkit-progress-bar {\n",
       "        background: #F44336;\n",
       "    }\n",
       "</style>\n"
      ],
      "text/plain": [
       "<IPython.core.display.HTML object>"
      ]
     },
     "metadata": {},
     "output_type": "display_data"
    },
    {
     "data": {
      "text/html": [
       "\n",
       "    <div>\n",
       "      <progress value='2500' class='' max='2500' style='width:300px; height:20px; vertical-align: middle;'></progress>\n",
       "      100.00% [2500/2500 00:04&lt;00:00 Sampling chain 0, 0 divergences]\n",
       "    </div>\n",
       "    "
      ],
      "text/plain": [
       "<IPython.core.display.HTML object>"
      ]
     },
     "metadata": {},
     "output_type": "display_data"
    },
    {
     "name": "stderr",
     "output_type": "stream",
     "text": [
      "Sampling 1 chain for 500 tune and 2_000 draw iterations (500 + 2_000 draws total) took 5 seconds.\n",
      "Only one chain was sampled, this makes it impossible to run some convergence checks\n"
     ]
    },
    {
     "data": {
      "text/html": [
       "\n",
       "<style>\n",
       "    /* Turns off some styling */\n",
       "    progress {\n",
       "        /* gets rid of default border in Firefox and Opera. */\n",
       "        border: none;\n",
       "        /* Needs to be in here for Safari polyfill so background images work as expected. */\n",
       "        background-size: auto;\n",
       "    }\n",
       "    progress:not([value]), progress:not([value])::-webkit-progress-bar {\n",
       "        background: repeating-linear-gradient(45deg, #7e7e7e, #7e7e7e 10px, #5c5c5c 10px, #5c5c5c 20px);\n",
       "    }\n",
       "    .progress-bar-interrupted, .progress-bar-interrupted::-webkit-progress-bar {\n",
       "        background: #F44336;\n",
       "    }\n",
       "</style>\n"
      ],
      "text/plain": [
       "<IPython.core.display.HTML object>"
      ]
     },
     "metadata": {},
     "output_type": "display_data"
    },
    {
     "data": {
      "text/html": [
       "\n",
       "    <div>\n",
       "      <progress value='2000' class='' max='2000' style='width:300px; height:20px; vertical-align: middle;'></progress>\n",
       "      100.00% [2000/2000 00:00&lt;00:00]\n",
       "    </div>\n",
       "    "
      ],
      "text/plain": [
       "<IPython.core.display.HTML object>"
      ]
     },
     "metadata": {},
     "output_type": "display_data"
    },
    {
     "name": "stderr",
     "output_type": "stream",
     "text": [
      "/home/sascha/miniforge3/envs/pymc/lib/python3.11/site-packages/arviz/stats/stats.py:1645: UserWarning: For one or more samples the posterior variance of the log predictive densities exceeds 0.4. This could be indication of WAIC starting to fail. \n",
      "See http://arxiv.org/abs/1507.04544 for details\n",
      "  warnings.warn(\n",
      "/home/sascha/miniforge3/envs/pymc/lib/python3.11/site-packages/arviz/stats/stats.py:1645: UserWarning: For one or more samples the posterior variance of the log predictive densities exceeds 0.4. This could be indication of WAIC starting to fail. \n",
      "See http://arxiv.org/abs/1507.04544 for details\n",
      "  warnings.warn(\n",
      "/home/sascha/miniforge3/envs/pymc/lib/python3.11/site-packages/arviz/stats/stats.py:1645: UserWarning: For one or more samples the posterior variance of the log predictive densities exceeds 0.4. This could be indication of WAIC starting to fail. \n",
      "See http://arxiv.org/abs/1507.04544 for details\n",
      "  warnings.warn(\n"
     ]
    },
    {
     "name": "stdout",
     "output_type": "stream",
     "text": [
      "Computed from 2000 posterior samples and 1000 observations log-likelihood matrix.\n",
      "\n",
      "          Estimate       SE\n",
      "elpd_waic  -362.24    21.21\n",
      "p_waic       43.49        -\n",
      "\n",
      "There has been a warning during the calculation. Please check the results.\n",
      "waic=724.48\n"
     ]
    },
    {
     "name": "stderr",
     "output_type": "stream",
     "text": [
      "Auto-assigning NUTS sampler...\n",
      "Initializing NUTS using jitter+adapt_diag...\n",
      "Sequential sampling (1 chains in 1 job)\n",
      "NUTS: [alpha, beta, p_heads]\n"
     ]
    },
    {
     "data": {
      "text/html": [
       "\n",
       "<style>\n",
       "    /* Turns off some styling */\n",
       "    progress {\n",
       "        /* gets rid of default border in Firefox and Opera. */\n",
       "        border: none;\n",
       "        /* Needs to be in here for Safari polyfill so background images work as expected. */\n",
       "        background-size: auto;\n",
       "    }\n",
       "    progress:not([value]), progress:not([value])::-webkit-progress-bar {\n",
       "        background: repeating-linear-gradient(45deg, #7e7e7e, #7e7e7e 10px, #5c5c5c 10px, #5c5c5c 20px);\n",
       "    }\n",
       "    .progress-bar-interrupted, .progress-bar-interrupted::-webkit-progress-bar {\n",
       "        background: #F44336;\n",
       "    }\n",
       "</style>\n"
      ],
      "text/plain": [
       "<IPython.core.display.HTML object>"
      ]
     },
     "metadata": {},
     "output_type": "display_data"
    },
    {
     "data": {
      "text/html": [
       "\n",
       "    <div>\n",
       "      <progress value='2500' class='' max='2500' style='width:300px; height:20px; vertical-align: middle;'></progress>\n",
       "      100.00% [2500/2500 00:05&lt;00:00 Sampling chain 0, 0 divergences]\n",
       "    </div>\n",
       "    "
      ],
      "text/plain": [
       "<IPython.core.display.HTML object>"
      ]
     },
     "metadata": {},
     "output_type": "display_data"
    },
    {
     "name": "stderr",
     "output_type": "stream",
     "text": [
      "Sampling 1 chain for 500 tune and 2_000 draw iterations (500 + 2_000 draws total) took 6 seconds.\n",
      "Only one chain was sampled, this makes it impossible to run some convergence checks\n"
     ]
    },
    {
     "data": {
      "text/html": [
       "\n",
       "<style>\n",
       "    /* Turns off some styling */\n",
       "    progress {\n",
       "        /* gets rid of default border in Firefox and Opera. */\n",
       "        border: none;\n",
       "        /* Needs to be in here for Safari polyfill so background images work as expected. */\n",
       "        background-size: auto;\n",
       "    }\n",
       "    progress:not([value]), progress:not([value])::-webkit-progress-bar {\n",
       "        background: repeating-linear-gradient(45deg, #7e7e7e, #7e7e7e 10px, #5c5c5c 10px, #5c5c5c 20px);\n",
       "    }\n",
       "    .progress-bar-interrupted, .progress-bar-interrupted::-webkit-progress-bar {\n",
       "        background: #F44336;\n",
       "    }\n",
       "</style>\n"
      ],
      "text/plain": [
       "<IPython.core.display.HTML object>"
      ]
     },
     "metadata": {},
     "output_type": "display_data"
    },
    {
     "data": {
      "text/html": [
       "\n",
       "    <div>\n",
       "      <progress value='2000' class='' max='2000' style='width:300px; height:20px; vertical-align: middle;'></progress>\n",
       "      100.00% [2000/2000 00:00&lt;00:00]\n",
       "    </div>\n",
       "    "
      ],
      "text/plain": [
       "<IPython.core.display.HTML object>"
      ]
     },
     "metadata": {},
     "output_type": "display_data"
    },
    {
     "name": "stdout",
     "output_type": "stream",
     "text": [
      "Computed from 2000 posterior samples and 3000 observations log-likelihood matrix.\n",
      "\n",
      "          Estimate       SE\n",
      "elpd_waic -1059.91    36.63\n",
      "p_waic       60.06        -\n",
      "waic=2119.83\n"
     ]
    },
    {
     "name": "stderr",
     "output_type": "stream",
     "text": [
      "Auto-assigning NUTS sampler...\n",
      "Initializing NUTS using jitter+adapt_diag...\n",
      "Sequential sampling (1 chains in 1 job)\n",
      "NUTS: [alpha, beta, p_heads]\n"
     ]
    },
    {
     "data": {
      "text/html": [
       "\n",
       "<style>\n",
       "    /* Turns off some styling */\n",
       "    progress {\n",
       "        /* gets rid of default border in Firefox and Opera. */\n",
       "        border: none;\n",
       "        /* Needs to be in here for Safari polyfill so background images work as expected. */\n",
       "        background-size: auto;\n",
       "    }\n",
       "    progress:not([value]), progress:not([value])::-webkit-progress-bar {\n",
       "        background: repeating-linear-gradient(45deg, #7e7e7e, #7e7e7e 10px, #5c5c5c 10px, #5c5c5c 20px);\n",
       "    }\n",
       "    .progress-bar-interrupted, .progress-bar-interrupted::-webkit-progress-bar {\n",
       "        background: #F44336;\n",
       "    }\n",
       "</style>\n"
      ],
      "text/plain": [
       "<IPython.core.display.HTML object>"
      ]
     },
     "metadata": {},
     "output_type": "display_data"
    },
    {
     "data": {
      "text/html": [
       "\n",
       "    <div>\n",
       "      <progress value='2500' class='' max='2500' style='width:300px; height:20px; vertical-align: middle;'></progress>\n",
       "      100.00% [2500/2500 00:09&lt;00:00 Sampling chain 0, 0 divergences]\n",
       "    </div>\n",
       "    "
      ],
      "text/plain": [
       "<IPython.core.display.HTML object>"
      ]
     },
     "metadata": {},
     "output_type": "display_data"
    },
    {
     "name": "stderr",
     "output_type": "stream",
     "text": [
      "Sampling 1 chain for 500 tune and 2_000 draw iterations (500 + 2_000 draws total) took 10 seconds.\n",
      "Only one chain was sampled, this makes it impossible to run some convergence checks\n"
     ]
    },
    {
     "data": {
      "text/html": [
       "\n",
       "<style>\n",
       "    /* Turns off some styling */\n",
       "    progress {\n",
       "        /* gets rid of default border in Firefox and Opera. */\n",
       "        border: none;\n",
       "        /* Needs to be in here for Safari polyfill so background images work as expected. */\n",
       "        background-size: auto;\n",
       "    }\n",
       "    progress:not([value]), progress:not([value])::-webkit-progress-bar {\n",
       "        background: repeating-linear-gradient(45deg, #7e7e7e, #7e7e7e 10px, #5c5c5c 10px, #5c5c5c 20px);\n",
       "    }\n",
       "    .progress-bar-interrupted, .progress-bar-interrupted::-webkit-progress-bar {\n",
       "        background: #F44336;\n",
       "    }\n",
       "</style>\n"
      ],
      "text/plain": [
       "<IPython.core.display.HTML object>"
      ]
     },
     "metadata": {},
     "output_type": "display_data"
    },
    {
     "data": {
      "text/html": [
       "\n",
       "    <div>\n",
       "      <progress value='2000' class='' max='2000' style='width:300px; height:20px; vertical-align: middle;'></progress>\n",
       "      100.00% [2000/2000 00:00&lt;00:00]\n",
       "    </div>\n",
       "    "
      ],
      "text/plain": [
       "<IPython.core.display.HTML object>"
      ]
     },
     "metadata": {},
     "output_type": "display_data"
    },
    {
     "name": "stdout",
     "output_type": "stream",
     "text": [
      "Computed from 2000 posterior samples and 10000 observations log-likelihood matrix.\n",
      "\n",
      "          Estimate       SE\n",
      "elpd_waic -3416.63    66.19\n",
      "p_waic       75.47        -\n",
      "waic=6833.26\n"
     ]
    },
    {
     "name": "stderr",
     "output_type": "stream",
     "text": [
      "Auto-assigning NUTS sampler...\n",
      "Initializing NUTS using jitter+adapt_diag...\n",
      "Sequential sampling (1 chains in 1 job)\n",
      "NUTS: [alpha, beta, p_heads]\n"
     ]
    },
    {
     "data": {
      "text/html": [
       "\n",
       "<style>\n",
       "    /* Turns off some styling */\n",
       "    progress {\n",
       "        /* gets rid of default border in Firefox and Opera. */\n",
       "        border: none;\n",
       "        /* Needs to be in here for Safari polyfill so background images work as expected. */\n",
       "        background-size: auto;\n",
       "    }\n",
       "    progress:not([value]), progress:not([value])::-webkit-progress-bar {\n",
       "        background: repeating-linear-gradient(45deg, #7e7e7e, #7e7e7e 10px, #5c5c5c 10px, #5c5c5c 20px);\n",
       "    }\n",
       "    .progress-bar-interrupted, .progress-bar-interrupted::-webkit-progress-bar {\n",
       "        background: #F44336;\n",
       "    }\n",
       "</style>\n"
      ],
      "text/plain": [
       "<IPython.core.display.HTML object>"
      ]
     },
     "metadata": {},
     "output_type": "display_data"
    },
    {
     "data": {
      "text/html": [
       "\n",
       "    <div>\n",
       "      <progress value='2500' class='' max='2500' style='width:300px; height:20px; vertical-align: middle;'></progress>\n",
       "      100.00% [2500/2500 00:22&lt;00:00 Sampling chain 0, 0 divergences]\n",
       "    </div>\n",
       "    "
      ],
      "text/plain": [
       "<IPython.core.display.HTML object>"
      ]
     },
     "metadata": {},
     "output_type": "display_data"
    },
    {
     "name": "stderr",
     "output_type": "stream",
     "text": [
      "Sampling 1 chain for 500 tune and 2_000 draw iterations (500 + 2_000 draws total) took 23 seconds.\n",
      "Only one chain was sampled, this makes it impossible to run some convergence checks\n"
     ]
    },
    {
     "data": {
      "text/html": [
       "\n",
       "<style>\n",
       "    /* Turns off some styling */\n",
       "    progress {\n",
       "        /* gets rid of default border in Firefox and Opera. */\n",
       "        border: none;\n",
       "        /* Needs to be in here for Safari polyfill so background images work as expected. */\n",
       "        background-size: auto;\n",
       "    }\n",
       "    progress:not([value]), progress:not([value])::-webkit-progress-bar {\n",
       "        background: repeating-linear-gradient(45deg, #7e7e7e, #7e7e7e 10px, #5c5c5c 10px, #5c5c5c 20px);\n",
       "    }\n",
       "    .progress-bar-interrupted, .progress-bar-interrupted::-webkit-progress-bar {\n",
       "        background: #F44336;\n",
       "    }\n",
       "</style>\n"
      ],
      "text/plain": [
       "<IPython.core.display.HTML object>"
      ]
     },
     "metadata": {},
     "output_type": "display_data"
    },
    {
     "data": {
      "text/html": [
       "\n",
       "    <div>\n",
       "      <progress value='2000' class='' max='2000' style='width:300px; height:20px; vertical-align: middle;'></progress>\n",
       "      100.00% [2000/2000 00:00&lt;00:00]\n",
       "    </div>\n",
       "    "
      ],
      "text/plain": [
       "<IPython.core.display.HTML object>"
      ]
     },
     "metadata": {},
     "output_type": "display_data"
    },
    {
     "name": "stdout",
     "output_type": "stream",
     "text": [
      "Computed from 2000 posterior samples and 30000 observations log-likelihood matrix.\n",
      "\n",
      "          Estimate       SE\n",
      "elpd_waic -10577.54   113.41\n",
      "p_waic       88.85        -\n",
      "waic=21155.08\n"
     ]
    },
    {
     "name": "stderr",
     "output_type": "stream",
     "text": [
      "Auto-assigning NUTS sampler...\n",
      "Initializing NUTS using jitter+adapt_diag...\n",
      "Sequential sampling (1 chains in 1 job)\n",
      "NUTS: [alpha, beta, p_heads]\n"
     ]
    },
    {
     "data": {
      "text/html": [
       "\n",
       "<style>\n",
       "    /* Turns off some styling */\n",
       "    progress {\n",
       "        /* gets rid of default border in Firefox and Opera. */\n",
       "        border: none;\n",
       "        /* Needs to be in here for Safari polyfill so background images work as expected. */\n",
       "        background-size: auto;\n",
       "    }\n",
       "    progress:not([value]), progress:not([value])::-webkit-progress-bar {\n",
       "        background: repeating-linear-gradient(45deg, #7e7e7e, #7e7e7e 10px, #5c5c5c 10px, #5c5c5c 20px);\n",
       "    }\n",
       "    .progress-bar-interrupted, .progress-bar-interrupted::-webkit-progress-bar {\n",
       "        background: #F44336;\n",
       "    }\n",
       "</style>\n"
      ],
      "text/plain": [
       "<IPython.core.display.HTML object>"
      ]
     },
     "metadata": {},
     "output_type": "display_data"
    },
    {
     "data": {
      "text/html": [
       "\n",
       "    <div>\n",
       "      <progress value='2500' class='' max='2500' style='width:300px; height:20px; vertical-align: middle;'></progress>\n",
       "      100.00% [2500/2500 01:10&lt;00:00 Sampling chain 0, 0 divergences]\n",
       "    </div>\n",
       "    "
      ],
      "text/plain": [
       "<IPython.core.display.HTML object>"
      ]
     },
     "metadata": {},
     "output_type": "display_data"
    },
    {
     "name": "stderr",
     "output_type": "stream",
     "text": [
      "Sampling 1 chain for 500 tune and 2_000 draw iterations (500 + 2_000 draws total) took 70 seconds.\n",
      "Only one chain was sampled, this makes it impossible to run some convergence checks\n"
     ]
    },
    {
     "data": {
      "text/html": [
       "\n",
       "<style>\n",
       "    /* Turns off some styling */\n",
       "    progress {\n",
       "        /* gets rid of default border in Firefox and Opera. */\n",
       "        border: none;\n",
       "        /* Needs to be in here for Safari polyfill so background images work as expected. */\n",
       "        background-size: auto;\n",
       "    }\n",
       "    progress:not([value]), progress:not([value])::-webkit-progress-bar {\n",
       "        background: repeating-linear-gradient(45deg, #7e7e7e, #7e7e7e 10px, #5c5c5c 10px, #5c5c5c 20px);\n",
       "    }\n",
       "    .progress-bar-interrupted, .progress-bar-interrupted::-webkit-progress-bar {\n",
       "        background: #F44336;\n",
       "    }\n",
       "</style>\n"
      ],
      "text/plain": [
       "<IPython.core.display.HTML object>"
      ]
     },
     "metadata": {},
     "output_type": "display_data"
    },
    {
     "data": {
      "text/html": [
       "\n",
       "    <div>\n",
       "      <progress value='2000' class='' max='2000' style='width:300px; height:20px; vertical-align: middle;'></progress>\n",
       "      100.00% [2000/2000 00:02&lt;00:00]\n",
       "    </div>\n",
       "    "
      ],
      "text/plain": [
       "<IPython.core.display.HTML object>"
      ]
     },
     "metadata": {},
     "output_type": "display_data"
    },
    {
     "name": "stdout",
     "output_type": "stream",
     "text": [
      "Computed from 2000 posterior samples and 100000 observations log-likelihood matrix.\n",
      "\n",
      "          Estimate       SE\n",
      "elpd_waic -34775.15   207.07\n",
      "p_waic       95.32        -\n",
      "waic=69550.30\n"
     ]
    },
    {
     "data": {
      "image/png": "[encoded data removed]",
      "text/plain": [
       "<Figure size 640x480 with 1 Axes>"
      ]
     },
     "metadata": {},
     "output_type": "display_data"
    },
    {
     "data": {
      "image/png": "[encoded data removed]",
      "text/plain": [
       "<Figure size 640x480 with 1 Axes>"
      ]
     },
     "metadata": {},
     "output_type": "display_data"
    }
   ],
   "source": [
    "num_trials = [1,3,10,30,100,300,1000]\n",
    "waics = []\n",
    "pwaics = []\n",
    "\n",
    "for trials in num_trials:\n",
    "    trace, waic = run_coin_inference(num_trials = trials, num_agents = 100)\n",
    "    waics.append(waic)\n",
    "    pwaics.append(az.waic(trace)['p_waic'])"
   ]
  },
  {
   "cell_type": "code",
   "execution_count": 14,
   "id": "471ba078-edb1-4c31-bf31-ae60da904251",
   "metadata": {},
   "outputs": [
    {
     "data": {
      "image/png": "[encoded data removed]",
      "text/plain": [
       "<Figure size 640x480 with 1 Axes>"
      ]
     },
     "metadata": {},
     "output_type": "display_data"
    },
    {
     "data": {
      "image/png": "[encoded data removed]",
      "text/plain": [
       "<Figure size 640x480 with 1 Axes>"
      ]
     },
     "metadata": {},
     "output_type": "display_data"
    }
   ],
   "source": [
    "import matplotlib.pyplot as plt\n",
    "plt.plot(num_trials, waics)\n",
    "plt.xlabel('number of trials')\n",
    "plt.ylabel('pwaics')\n",
    "plt.title('WAIC')\n",
    "plt.show()\n",
    "\n",
    "plt.plot(num_trials, pwaics)\n",
    "plt.title('pwaic')\n",
    "plt.xlabel('number of trials')\n",
    "plt.ylabel('pwaics')\n",
    "plt.show()"
   ]
  },
  {
   "cell_type": "markdown",
   "id": "6492ba30-c800-406f-aae0-3a6cd758a88c",
   "metadata": {},
   "source": [
    "The effective number of parameters, p_waic, is computed as:\n",
    "\n",
    "$$\n",
    "p_waic = \\sum_{i=1}^{n} var_{post} log p(y_i | \\theta),\n",
    "$$\n",
    "\n",
    "where n is the number of total trials (number of agents times number of trials per agent). This number increases rather linearly with the number of agents, but not with the number of trials. This is because, while there are more terms to add up with more trials, the posterior for each agent becomes sharper with each trial, since there is more evidence for inference.\n",
    "\n",
    "If we want to perform a similar inference, but in pyro, then we can use the following inferenceclasse:"
   ]
  },
  {
   "cell_type": "markdown",
   "id": "d124ce87-3b3a-447e-b597-e136213a2de1",
   "metadata": {},
   "source": [
    "# Part 2: Inference in pyro"
   ]
  },
  {
   "cell_type": "code",
   "execution_count": 2,
   "id": "c9b7f8a6-d65e-4ea0-be3d-8f82dc8aa7e8",
   "metadata": {},
   "outputs": [],
   "source": [
    "class CoinflipGroupInference():\n",
    "\n",
    "    def __init__(self, agent, group_data):\n",
    "        '''\n",
    "        General Group inference..\n",
    "        \n",
    "        agent : obj\n",
    "            Initialization of agent class with num_agents parallel agents.\n",
    "\n",
    "        groupdata : tensor, shape [num_agents, num_trials]\n",
    "                \n",
    "        '''\n",
    "        \n",
    "        self.agent = agent\n",
    "        self.trials = group_data.shape[-1] # length of experiment\n",
    "        self.num_agents = agent.num_agents # no. of participants\n",
    "        self.data = group_data # dict of lists\n",
    "        self.num_trials = self.data.shape[-1]\n",
    "        print(f\"{self.num_trials} Trials.\")\n",
    "        self.num_params = len(self.agent.param_names) # number of parameters\n",
    "        self.loss = []\n",
    "\n",
    "    \n",
    "    def model(self, *args):\n",
    "        alpha = pyro.param('alpha', dist.Gamma(torch.ones(self.num_agents), torch.ones(self.num_agents)), constraint=dist.constraints.positive)\n",
    "        beta = pyro.param('beta', dist.Gamma(torch.ones(self.num_agents), torch.ones(self.num_agents)), constraint=dist.constraints.positive)\n",
    "\n",
    "        with pyro.plate('ag_idx', self.num_agents):\n",
    "            \n",
    "            locs = pyro.sample('locs', dist.Beta(alpha, beta))\n",
    "            \n",
    "            if locs.ndim == 1:\n",
    "                locs = locs[None,:,None]\n",
    "                \n",
    "            if locs.ndim == 2 and locs.shape[0] == 10 and locs.shape[1] == self.num_agents:\n",
    "                locs = locs[..., None]\n",
    "                \n",
    "            if locs.ndim == 2 and locs.shape[1] == 1 and locs.shape[0] == self.num_agents:\n",
    "                locs = locs[None, ...]\n",
    "                \n",
    "            'Shape of phead must be [num_particles, num_agents, num_parameters]'\n",
    "            self.agent.reset(locs)\n",
    "            \n",
    "            num_particles = locs.shape[0]\n",
    "            assert locs.shape[1] == self.num_agents\n",
    "            assert locs.shape[-1] == 1\n",
    "            assert locs.shape[0] == 1 or locs.shape[0] == 10\n",
    "            \n",
    "            t = 0\n",
    "            for trial in range(self.num_trials):\n",
    "                # print(\"\\n\\nCHECK\")\n",
    "                probs = self.agent.compute_probs()\n",
    "                \n",
    "\n",
    "                pyro.sample('res_{}'.format(t), \n",
    "                            dist.Categorical(probs = probs),\n",
    "                            obs = self.data[:, t])\n",
    "                t+=1\n",
    "                \n",
    "    def guide(self, *args):\n",
    "        alpha = pyro.param('alpha', dist.Gamma(torch.ones(self.num_agents), torch.ones(self.num_agents)), constraint=dist.constraints.positive)\n",
    "        beta = pyro.param('beta', dist.Gamma(torch.ones(self.num_agents), torch.ones(self.num_agents)), constraint=dist.constraints.positive)\n",
    "        # class Gamma(concentration, rate, validate_args=None)\n",
    "        # For Gamma distribution(shape, rate), mean is shape/rate, thus \n",
    "        # Gamma(a, a/lam) -> mean = lam\n",
    "\n",
    "        # in order to implement groups, where each subject is independent of the others, pyro uses so-called plates.\n",
    "        # you embed what should be done for each subject into the \"with pyro.plate\" context\n",
    "        # the plate vectorizes subjects and adds an additional dimension onto all arrays/tensors\n",
    "        # i.e. p1 below will have the length num_agents\n",
    "        with pyro.plate('ag_idx', self.num_agents):\n",
    "            \n",
    "            locs = pyro.sample('locs', dist.Beta(alpha, beta))\n",
    "            \n",
    "            if locs.ndim == 1:\n",
    "                locs = locs[..., None]\n",
    "\n",
    "        return {'alpha': alpha, 'beta': beta, 'locs': locs}\n",
    "\n",
    "    \n",
    "    def infer_posterior(self,\n",
    "                        iter_steps = 1_000,\n",
    "                        num_particles = 10,\n",
    "                        optim_kwargs = {'lr': .01}):  # Adam learning rate\n",
    "        \"\"\"Perform SVI over free model parameters.\"\"\"\n",
    "\n",
    "        pyro.clear_param_store()\n",
    "\n",
    "        svi = pyro.infer.SVI(model=self.model,\n",
    "                  guide=self.guide,\n",
    "                  optim=pyro.optim.Adam(optim_kwargs),\n",
    "                  loss=pyro.infer.Trace_ELBO(num_particles=num_particles,\n",
    "                                  vectorize_particles=True))\n",
    "        loss = []\n",
    "        print(\"Starting inference.\")\n",
    "        \"Stop after iter_steps steps.\"\n",
    "        pbar = tqdm(range(iter_steps), position=0)\n",
    "        for step in pbar:#range(iter_steps):\n",
    "            \"Runs through the model twice the first time\"\n",
    "            loss.append(torch.tensor(svi.step()).to(device))\n",
    "            pbar.set_description(\"Mean ELBO %6.2f\" % torch.tensor(loss[-20:]).mean())\n",
    "            if torch.isnan(loss[-1]):\n",
    "                break\n",
    "\n",
    "        self.loss += [l.cpu() for l in loss] # = -ELBO (Plotten!)\n",
    "\n",
    "    def sample_posterior(self, n_samples = 1_000):\n",
    "        '''\n",
    "\n",
    "        Parameters\n",
    "        ----------\n",
    "        n_samples : int, optional\n",
    "            The number of samples from each posterior. The default is 1_000.\n",
    "            \n",
    "\n",
    "        Returns\n",
    "        -------\n",
    "        TYPE\n",
    "            DESCRIPTION.\n",
    "\n",
    "        '''\n",
    "\n",
    "        param_names = self.agent.param_names\n",
    "        'Original Code'\n",
    "        sample_dict = {param: [] for param in param_names}\n",
    "        sample_dict[\"ag_idx\"] = []\n",
    "        for i in range(n_samples):\n",
    "            sample = self.guide()\n",
    "            for key in sample.keys():\n",
    "                sample.setdefault(key, torch.ones(1))\n",
    "\n",
    "            par_sample = self.agent.locs_to_pars(sample[\"locs\"])\n",
    "\n",
    "            for param in param_names:\n",
    "                sample_dict[param].extend(list(par_sample[param].detach().numpy()))\n",
    "\n",
    "            sample_dict[\"ag_idx\"].extend(range(self.num_agents))\n",
    "\n",
    "        firstlevel_df = pd.DataFrame(sample_dict)\n",
    "        return firstlevel_df\n",
    "\n",
    "    def compute_IC(self, num_samples):\n",
    "        '''\n",
    "            Compute information criteria for each participant individually.\n",
    "        '''\n",
    "\n",
    "        '''\n",
    "            WAIC: Gelman, Andrew; Carlin, John B.; Stern, Hal S.; Rubin, Donald B. (2004). \n",
    "            Bayesian Data Analysis: Second Edition\n",
    "        '''\n",
    "        conditioned_model = pyro.condition(self.model, \n",
    "                                            data = {'locs': self.guide()['locs']})\n",
    "        \n",
    "        trace = pyro.poutine.trace(conditioned_model).get_trace()\n",
    "\n",
    "        # Determine the number of observations across all participants (num_obs)\n",
    "        num_obs = 0\n",
    "        for key, val in trace.nodes.items():\n",
    "            if 'res' in key and 'is_observed' in val and val['is_observed'] == True:\n",
    "                num_obs += 1\n",
    "\n",
    "        all_post_samples = {param: torch.zeros(1, num_samples, self.num_agents) for param in self.agent.param_names}\n",
    "        all_post_loc_samples = torch.zeros(num_samples, self.num_agents, self.agent.num_params)\n",
    "        loglike = torch.zeros(num_samples, num_obs, self.num_agents) # log-likelihood values\n",
    "        like = torch.zeros(num_samples, num_obs, self.num_agents) # likelihood values\n",
    "\n",
    "        # Sample from posterior num_samples times, and compute log-likelihood and likelihood for each iteration\n",
    "        for i in range(num_samples):\n",
    "            if i % 100 == 0:\n",
    "                print(f\"Iterating to compute WAIC, step {i}.\")\n",
    "            \n",
    "            locs = torch.clone((self.guide()['locs']))\n",
    "            conditioned_model = pyro.condition(self.model, \n",
    "                                                data = {'locs': locs})\n",
    "            \n",
    "            outdict = self.agent.locs_to_pars(locs)\n",
    "            for j in range(self.num_agents):\n",
    "                for param in self.agent.param_names:\n",
    "                    all_post_samples[param][0, i, j] = outdict[param][j].item()\n",
    "            \n",
    "            for j in range(self.agent.num_params):\n",
    "                all_post_loc_samples[i, :, j] = locs[:, j]\n",
    "                \n",
    "            \n",
    "            trace = pyro.poutine.trace(conditioned_model).get_trace()\n",
    "            \n",
    "            obsidx = 0\n",
    "            for key, val in trace.nodes.items():\n",
    "                if 'res' in key and 'is_observed' in val and val['is_observed'] == True:\n",
    "                    choices = val['value']\n",
    "                    # obsmask = val['mask'].type(torch.int)\n",
    "                    probs = val['fn'].probs\n",
    "                    \n",
    "                    choice_probs = probs[range(self.num_agents), choices]\n",
    "                    \n",
    "                    '''\n",
    "                        likelihood function\n",
    "                    '''\n",
    "                    like[i, obsidx, :] += choice_probs.detach()\n",
    "                    loglike[i, obsidx, :] += torch.log(choice_probs).detach()\n",
    "                    \n",
    "                    obsidx += 1\n",
    "\n",
    "        # Unspool the (log)-likelihood\n",
    "        loglike_2D = torch.zeros((num_samples, self.num_agents*self.num_trials))\n",
    "        like_2D = torch.zeros((num_samples, self.num_agents*self.num_trials))\n",
    "        for i in range(num_samples):\n",
    "            loglike_2D[i, :] = torch.flatten(loglike[i, :, :])\n",
    "            like_2D[i,:] =  torch.flatten(like[i, :, :])\n",
    "\n",
    "        # Compute the log pointwise predictive density\n",
    "        lppd_vec = torch.log(like_2D.mean(axis=0))\n",
    "        lppd = lppd_vec.sum()\n",
    "        \n",
    "        # Compute the effective number of parameters\n",
    "        pwaic2_vec = loglike_2D.var(axis=0, correction = 0)\n",
    "        pwaic2 = pwaic2_vec.sum()\n",
    "\n",
    "        # Compute WAIC\n",
    "        WAIC = -2*(lppd - pwaic2)\n",
    "        \n",
    "        '''\n",
    "            NEXT: Compute WAIC variance\n",
    "        '''\n",
    "\n",
    "\n",
    "        '''\n",
    "            Properties of the variance\n",
    "            Var(X+Y) = Var(X) + Var(Y) + 2Cov(X,Y)\n",
    "            Var(X-Y) = Var(X+(-Y)) = Var(X) + Var(-Y) + 2*Cov(X,-Y) = Var(X) + Var(Y) - 2*Cov(X,Y)\n",
    "            Var(aX) = a²Var(X)\n",
    "        '''\n",
    "        lppd_var = lppd_vec.var(correction = 0)\n",
    "        pwaic_var = pwaic2_vec.var(correction = 0)\n",
    "        cov = torch.cov(torch.stack((lppd_vec, pwaic2_vec)))\n",
    "        assert cov.ndim == 2\n",
    "        assert cov.shape[0] == 2\n",
    "        assert cov.shape[1] == 2\n",
    "        waic_var = 4*(lppd_var + pwaic_var - 2*cov[0,1])\n",
    "            \n",
    "        print(\"Finished WAIC\")\n",
    "        return WAIC.detach(), loglike, waic_var, pwaic2"
   ]
  },
  {
   "cell_type": "markdown",
   "id": "6e90e79f-f1a9-419a-8de0-5da4276879b9",
   "metadata": {},
   "source": [
    "We use the following agent model:"
   ]
  },
  {
   "cell_type": "code",
   "execution_count": 3,
   "id": "98009dc8-52cf-4ecf-85e5-66187ede8bea",
   "metadata": {},
   "outputs": [],
   "source": [
    "class Coinflip_agent():\n",
    "    param_names = ['heads_p']\n",
    "    num_params = len(param_names)\n",
    "    \n",
    "    def __init__(self, num_agents):\n",
    "        self.num_agents = num_agents\n",
    "        self.num_particles = 1\n",
    "        locs = torch.tensor(np.random.uniform(-2, 2, (self.num_particles, num_agents, self.num_params)))\n",
    "        self.param_dict = self.locs_to_pars(locs)\n",
    "\n",
    "    def locs_to_pars(self, locs):\n",
    "        # param_dict = {'heads_p': torch.sigmoid(locs[..., 0])}\n",
    "        param_dict = {'heads_p': locs[..., 0]}\n",
    "        \n",
    "        return param_dict\n",
    "    \n",
    "    def compute_probs(self, **kwargs):\n",
    "        '''\n",
    "\n",
    "        Parameters\n",
    "        ----------\n",
    "        trial : tensor with shape [num_agents]\n",
    "            DESCRIPTION.\n",
    "            \n",
    "        day : int\n",
    "            Day of experiment.\n",
    "\n",
    "        blocktype : torch.tensor with shape [num_agents]\n",
    "            0/1 : sequential/ random \n",
    "\n",
    "        Returns\n",
    "        -------\n",
    "        probs : tensor with shape [num_particles, num_agents, 2]\n",
    "            [0.5, 0.5] in the corresponding row in case of single-target trial.\n",
    "            probs of response option1 and response option2 in case of dual-target trial.\n",
    "\n",
    "        '''\n",
    "        \n",
    "        \n",
    "        # print(self.param_dict['heads_p'].shape)\n",
    "        \n",
    "        if self.param_dict['heads_p'].shape[0] == 1:\n",
    "            probs = torch.cat((1-self.param_dict['heads_p'].T, self.param_dict['heads_p'].T), axis = 1)\n",
    "            \n",
    "        else:\n",
    "            probs = torch.stack((1-self.param_dict['heads_p'], self.param_dict['heads_p']), axis = -1)\n",
    "            \n",
    "        assert probs.shape[-1] == 2\n",
    "        if self.param_dict['heads_p'].shape[0] > 1:\n",
    "            assert probs.shape[0] == self.num_particles\n",
    "            assert probs.shape[1] == self.num_agents\n",
    "        \n",
    "        return probs\n",
    "        \n",
    "    def reset(self, locs):\n",
    "        self.param_dict = self.locs_to_pars(locs)\n",
    "        \n",
    "        self.num_particles = locs.shape[0]\n",
    "        self.num_agents = locs.shape[1]"
   ]
  },
  {
   "cell_type": "raw",
   "id": "bc1de187-ecf7-403a-b5f5-317f19880fea",
   "metadata": {},
   "source": [
    "Run inference with pytorch:"
   ]
  },
  {
   "cell_type": "code",
   "execution_count": 4,
   "id": "f0624c61-3135-4b6b-a5c4-11e486050c0a",
   "metadata": {},
   "outputs": [
    {
     "name": "stdout",
     "output_type": "stream",
     "text": [
      "100 Trials.\n",
      "Starting inference.\n"
     ]
    },
    {
     "name": "stderr",
     "output_type": "stream",
     "text": [
      "Mean ELBO 3543.81: 100%|███████████████████████████████████████████████████████████████████████████████████████████████████████████████████████████████████████████████████████| 3000/3000 [01:34<00:00, 31.70it/s]\n"
     ]
    },
    {
     "data": {
      "image/png": "[encoded data removed]",
      "text/plain": [
       "<Figure size 640x480 with 1 Axes>"
      ]
     },
     "metadata": {},
     "output_type": "display_data"
    }
   ],
   "source": [
    "import torch\n",
    "import pyro\n",
    "import pyro.distributions as dist\n",
    "from tqdm import tqdm\n",
    "import numpy as np\n",
    "import matplotlib.pyplot as plt\n",
    "import pandas as pd\n",
    "device = torch.device(\"cpu\")\n",
    "\n",
    "num_trials = 100\n",
    "num_agents = 100\n",
    "phead = 0.11\n",
    "\n",
    "num_inf_steps = 3000\n",
    "\n",
    "agent = Coinflip_agent(num_agents)\n",
    "coinflip_data = torch.tensor(np.random.choice([0, 1], \n",
    "                                              p = [1-phead, phead], \n",
    "                                              size = (num_agents, num_trials))) # 0 heads, 1 tails\n",
    "infer = CoinflipGroupInference(agent, coinflip_data)\n",
    "infer.infer_posterior(iter_steps = num_inf_steps, num_particles = 10)\n",
    "plt.plot(infer.loss)\n",
    "\n",
    "post_sample_df = infer.sample_posterior(n_samples=5000)\n",
    "post_mean_df = post_sample_df.groupby(['ag_idx'], as_index = False).mean()"
   ]
  },
  {
   "cell_type": "markdown",
   "id": "8fc01462-bdcf-4f37-a6db-7ec102727aa6",
   "metadata": {},
   "source": [
    "Check the inferred means:"
   ]
  },
  {
   "cell_type": "code",
   "execution_count": 5,
   "id": "7c3543b8-7ee6-4506-bd87-bc010363fa28",
   "metadata": {},
   "outputs": [
    {
     "name": "stdout",
     "output_type": "stream",
     "text": [
      "    ag_idx   heads_p\n",
      "0        0  0.059546\n",
      "1        1  0.141112\n",
      "2        2  0.061895\n",
      "3        3  0.124817\n",
      "4        4  0.073284\n",
      "..     ...       ...\n",
      "95      95  0.172843\n",
      "96      96  0.063045\n",
      "97      97  0.155835\n",
      "98      98  0.100477\n",
      "99      99  0.175969\n",
      "\n",
      "[100 rows x 2 columns]\n"
     ]
    },
    {
     "data": {
      "text/plain": [
       "ag_idx     49.50000\n",
       "heads_p     0.11706\n",
       "dtype: float64"
      ]
     },
     "execution_count": 5,
     "metadata": {},
     "output_type": "execute_result"
    }
   ],
   "source": [
    "print(post_mean_df)\n",
    "post_mean_df.mean()"
   ]
  },
  {
   "cell_type": "markdown",
   "id": "0d8e6659-dd2a-4b2e-9ebf-9fa11fc1731b",
   "metadata": {},
   "source": [
    "Compute WAIC:"
   ]
  },
  {
   "cell_type": "code",
   "execution_count": 6,
   "id": "b0e9bbc5-4eff-4b7d-8380-5413a2126a03",
   "metadata": {},
   "outputs": [
    {
     "name": "stdout",
     "output_type": "stream",
     "text": [
      "Iterating to compute WAIC, step 0.\n",
      "Iterating to compute WAIC, step 100.\n",
      "Iterating to compute WAIC, step 200.\n",
      "Iterating to compute WAIC, step 300.\n",
      "Iterating to compute WAIC, step 400.\n",
      "Iterating to compute WAIC, step 500.\n",
      "Iterating to compute WAIC, step 600.\n",
      "Iterating to compute WAIC, step 700.\n",
      "Iterating to compute WAIC, step 800.\n",
      "Iterating to compute WAIC, step 900.\n",
      "Iterating to compute WAIC, step 1000.\n",
      "Iterating to compute WAIC, step 1100.\n",
      "Iterating to compute WAIC, step 1200.\n",
      "Iterating to compute WAIC, step 1300.\n",
      "Iterating to compute WAIC, step 1400.\n",
      "Iterating to compute WAIC, step 1500.\n",
      "Iterating to compute WAIC, step 1600.\n",
      "Iterating to compute WAIC, step 1700.\n",
      "Iterating to compute WAIC, step 1800.\n",
      "Iterating to compute WAIC, step 1900.\n",
      "Finished WAIC\n"
     ]
    }
   ],
   "source": [
    "num_waic_samples = 2000\n",
    "WAIC, loglike, waic_var, pwaic = infer.compute_IC(num_samples = num_waic_samples)"
   ]
  },
  {
   "cell_type": "code",
   "execution_count": 7,
   "id": "60f2d4d4-34ce-4b9d-b6d1-30269914a880",
   "metadata": {},
   "outputs": [
    {
     "data": {
      "text/plain": [
       "tensor(7535.5371)"
      ]
     },
     "execution_count": 7,
     "metadata": {},
     "output_type": "execute_result"
    }
   ],
   "source": [
    "WAIC"
   ]
  },
  {
   "cell_type": "code",
   "execution_count": 8,
   "id": "81963557-1130-4fca-a42e-fba88495b139",
   "metadata": {},
   "outputs": [
    {
     "data": {
      "text/plain": [
       "tensor(354.4013)"
      ]
     },
     "execution_count": 8,
     "metadata": {},
     "output_type": "execute_result"
    }
   ],
   "source": [
    "pwaic"
   ]
  },
  {
   "cell_type": "markdown",
   "id": "d31e74ca-c276-4c9e-a293-ac9dfcfe2a77",
   "metadata": {},
   "source": [
    "## Let's see what comes out when we use the log-likelihood to compute the WAIC with the arviz package:"
   ]
  },
  {
   "cell_type": "code",
   "execution_count": 9,
   "id": "0dc40760-3d96-424c-812e-7bafb330d2a3",
   "metadata": {},
   "outputs": [],
   "source": [
    "ll_reshape = loglike.reshape(1, num_waic_samples, num_agents*num_trials)"
   ]
  },
  {
   "cell_type": "code",
   "execution_count": 10,
   "id": "9f160c3e-0005-4f84-93af-7f9ed3a14fd1",
   "metadata": {},
   "outputs": [
    {
     "name": "stderr",
     "output_type": "stream",
     "text": [
      "/home/sascha/miniforge3/envs/torch/lib/python3.11/site-packages/arviz/stats/stats.py:1645: UserWarning: For one or more samples the posterior variance of the log predictive densities exceeds 0.4. This could be indication of WAIC starting to fail. \n",
      "See http://arxiv.org/abs/1507.04544 for details\n",
      "  warnings.warn(\n",
      "/home/sascha/miniforge3/envs/torch/lib/python3.11/site-packages/arviz/stats/stats.py:1645: UserWarning: For one or more samples the posterior variance of the log predictive densities exceeds 0.4. This could be indication of WAIC starting to fail. \n",
      "See http://arxiv.org/abs/1507.04544 for details\n",
      "  warnings.warn(\n"
     ]
    },
    {
     "name": "stdout",
     "output_type": "stream",
     "text": [
      "Computed from 2000 posterior samples and 10000 observations log-likelihood matrix.\n",
      "\n",
      "          Estimate       SE\n",
      "elpd_waic -3767.77    73.05\n",
      "p_waic      354.40        -\n",
      "\n",
      "There has been a warning during the calculation. Please check the results.\n",
      "waic=7535.54\n"
     ]
    }
   ],
   "source": [
    "import arviz as az\n",
    "import xarray as xr\n",
    "\n",
    "log_likelihood_da = xr.DataArray(\n",
    "    ll_reshape,\n",
    "    dims=[\"chain\", \"draw\", \"observation\"],\n",
    "    coords={\n",
    "        \"chain\": [0],  # Assuming a single chain for simplicity\n",
    "        \"draw\": np.arange(ll_reshape.shape[1]),\n",
    "        \"observation\": np.arange(ll_reshape.shape[2])\n",
    "    }\n",
    ")\n",
    "\n",
    "idata = az.InferenceData(log_likelihood=az.convert_to_dataset(log_likelihood_da))\n",
    "print(az.waic(idata))\n",
    "waic = -2*az.waic(idata)['elpd_waic']\n",
    "print(\"waic=%.2f\"%waic)"
   ]
  },
  {
   "cell_type": "code",
   "execution_count": 16,
   "id": "5011f635-fa81-4a6b-9f72-094b891df32d",
   "metadata": {
    "scrolled": true
   },
   "outputs": [
    {
     "name": "stdout",
     "output_type": "stream",
     "text": [
      "1 Trials.\n",
      "Starting inference.\n"
     ]
    },
    {
     "name": "stderr",
     "output_type": "stream",
     "text": [
      "Mean ELBO   0.21: 100%|███████████████████████████████████████████████████████████████████████████████████████████████████████████████████████████████████████████████████████| 3000/3000 [00:07<00:00, 408.12it/s]\n"
     ]
    },
    {
     "name": "stdout",
     "output_type": "stream",
     "text": [
      "Iterating to compute WAIC, step 0.\n",
      "Iterating to compute WAIC, step 100.\n",
      "Iterating to compute WAIC, step 200.\n",
      "Iterating to compute WAIC, step 300.\n",
      "Iterating to compute WAIC, step 400.\n",
      "Iterating to compute WAIC, step 500.\n",
      "Iterating to compute WAIC, step 600.\n",
      "Iterating to compute WAIC, step 700.\n",
      "Iterating to compute WAIC, step 800.\n",
      "Iterating to compute WAIC, step 900.\n",
      "Iterating to compute WAIC, step 1000.\n",
      "Iterating to compute WAIC, step 1100.\n",
      "Iterating to compute WAIC, step 1200.\n",
      "Iterating to compute WAIC, step 1300.\n",
      "Iterating to compute WAIC, step 1400.\n",
      "Iterating to compute WAIC, step 1500.\n",
      "Iterating to compute WAIC, step 1600.\n",
      "Iterating to compute WAIC, step 1700.\n",
      "Iterating to compute WAIC, step 1800.\n",
      "Iterating to compute WAIC, step 1900.\n",
      "Finished WAIC\n",
      "3 Trials.\n",
      "Starting inference.\n"
     ]
    },
    {
     "name": "stderr",
     "output_type": "stream",
     "text": [
      "Mean ELBO  68.10: 100%|███████████████████████████████████████████████████████████████████████████████████████████████████████████████████████████████████████████████████████| 3000/3000 [00:09<00:00, 327.94it/s]\n"
     ]
    },
    {
     "name": "stdout",
     "output_type": "stream",
     "text": [
      "Iterating to compute WAIC, step 0.\n",
      "Iterating to compute WAIC, step 100.\n",
      "Iterating to compute WAIC, step 200.\n",
      "Iterating to compute WAIC, step 300.\n",
      "Iterating to compute WAIC, step 400.\n",
      "Iterating to compute WAIC, step 500.\n",
      "Iterating to compute WAIC, step 600.\n",
      "Iterating to compute WAIC, step 700.\n",
      "Iterating to compute WAIC, step 800.\n",
      "Iterating to compute WAIC, step 900.\n",
      "Iterating to compute WAIC, step 1000.\n",
      "Iterating to compute WAIC, step 1100.\n",
      "Iterating to compute WAIC, step 1200.\n",
      "Iterating to compute WAIC, step 1300.\n",
      "Iterating to compute WAIC, step 1400.\n",
      "Iterating to compute WAIC, step 1500.\n",
      "Iterating to compute WAIC, step 1600.\n",
      "Iterating to compute WAIC, step 1700.\n",
      "Iterating to compute WAIC, step 1800.\n",
      "Iterating to compute WAIC, step 1900.\n",
      "Finished WAIC\n",
      "10 Trials.\n",
      "Starting inference.\n"
     ]
    },
    {
     "name": "stderr",
     "output_type": "stream",
     "text": [
      "Mean ELBO 278.65: 100%|███████████████████████████████████████████████████████████████████████████████████████████████████████████████████████████████████████████████████████| 3000/3000 [00:13<00:00, 223.67it/s]\n"
     ]
    },
    {
     "name": "stdout",
     "output_type": "stream",
     "text": [
      "Iterating to compute WAIC, step 0.\n",
      "Iterating to compute WAIC, step 100.\n",
      "Iterating to compute WAIC, step 200.\n",
      "Iterating to compute WAIC, step 300.\n",
      "Iterating to compute WAIC, step 400.\n",
      "Iterating to compute WAIC, step 500.\n",
      "Iterating to compute WAIC, step 600.\n",
      "Iterating to compute WAIC, step 700.\n",
      "Iterating to compute WAIC, step 800.\n",
      "Iterating to compute WAIC, step 900.\n",
      "Iterating to compute WAIC, step 1000.\n",
      "Iterating to compute WAIC, step 1100.\n",
      "Iterating to compute WAIC, step 1200.\n",
      "Iterating to compute WAIC, step 1300.\n",
      "Iterating to compute WAIC, step 1400.\n",
      "Iterating to compute WAIC, step 1500.\n",
      "Iterating to compute WAIC, step 1600.\n",
      "Iterating to compute WAIC, step 1700.\n",
      "Iterating to compute WAIC, step 1800.\n",
      "Iterating to compute WAIC, step 1900.\n",
      "Finished WAIC\n",
      "30 Trials.\n",
      "Starting inference.\n"
     ]
    },
    {
     "name": "stderr",
     "output_type": "stream",
     "text": [
      "Mean ELBO 982.71: 100%|███████████████████████████████████████████████████████████████████████████████████████████████████████████████████████████████████████████████████████| 3000/3000 [00:25<00:00, 117.13it/s]\n"
     ]
    },
    {
     "name": "stdout",
     "output_type": "stream",
     "text": [
      "Iterating to compute WAIC, step 0.\n",
      "Iterating to compute WAIC, step 100.\n",
      "Iterating to compute WAIC, step 200.\n",
      "Iterating to compute WAIC, step 300.\n",
      "Iterating to compute WAIC, step 400.\n",
      "Iterating to compute WAIC, step 500.\n",
      "Iterating to compute WAIC, step 600.\n",
      "Iterating to compute WAIC, step 700.\n",
      "Iterating to compute WAIC, step 800.\n",
      "Iterating to compute WAIC, step 900.\n",
      "Iterating to compute WAIC, step 1000.\n",
      "Iterating to compute WAIC, step 1100.\n",
      "Iterating to compute WAIC, step 1200.\n",
      "Iterating to compute WAIC, step 1300.\n",
      "Iterating to compute WAIC, step 1400.\n",
      "Iterating to compute WAIC, step 1500.\n",
      "Iterating to compute WAIC, step 1600.\n",
      "Iterating to compute WAIC, step 1700.\n",
      "Iterating to compute WAIC, step 1800.\n",
      "Iterating to compute WAIC, step 1900.\n",
      "Finished WAIC\n",
      "100 Trials.\n",
      "Starting inference.\n"
     ]
    },
    {
     "name": "stderr",
     "output_type": "stream",
     "text": [
      "Mean ELBO 3555.90: 100%|███████████████████████████████████████████████████████████████████████████████████████████████████████████████████████████████████████████████████████| 3000/3000 [01:13<00:00, 40.90it/s]\n"
     ]
    },
    {
     "name": "stdout",
     "output_type": "stream",
     "text": [
      "Iterating to compute WAIC, step 0.\n",
      "Iterating to compute WAIC, step 100.\n",
      "Iterating to compute WAIC, step 200.\n",
      "Iterating to compute WAIC, step 300.\n",
      "Iterating to compute WAIC, step 400.\n",
      "Iterating to compute WAIC, step 500.\n",
      "Iterating to compute WAIC, step 600.\n",
      "Iterating to compute WAIC, step 700.\n",
      "Iterating to compute WAIC, step 800.\n",
      "Iterating to compute WAIC, step 900.\n",
      "Iterating to compute WAIC, step 1000.\n",
      "Iterating to compute WAIC, step 1100.\n",
      "Iterating to compute WAIC, step 1200.\n",
      "Iterating to compute WAIC, step 1300.\n",
      "Iterating to compute WAIC, step 1400.\n",
      "Iterating to compute WAIC, step 1500.\n",
      "Iterating to compute WAIC, step 1600.\n",
      "Iterating to compute WAIC, step 1700.\n",
      "Iterating to compute WAIC, step 1800.\n",
      "Iterating to compute WAIC, step 1900.\n",
      "Finished WAIC\n",
      "300 Trials.\n",
      "Starting inference.\n"
     ]
    },
    {
     "name": "stderr",
     "output_type": "stream",
     "text": [
      "Mean ELBO 10824.63: 100%|██████████████████████████████████████████████████████████████████████████████████████████████████████████████████████████████████████████████████████| 3000/3000 [03:43<00:00, 13.40it/s]\n"
     ]
    },
    {
     "name": "stdout",
     "output_type": "stream",
     "text": [
      "Iterating to compute WAIC, step 0.\n",
      "Iterating to compute WAIC, step 100.\n",
      "Iterating to compute WAIC, step 200.\n",
      "Iterating to compute WAIC, step 300.\n",
      "Iterating to compute WAIC, step 400.\n",
      "Iterating to compute WAIC, step 500.\n",
      "Iterating to compute WAIC, step 600.\n",
      "Iterating to compute WAIC, step 700.\n",
      "Iterating to compute WAIC, step 800.\n",
      "Iterating to compute WAIC, step 900.\n",
      "Iterating to compute WAIC, step 1000.\n",
      "Iterating to compute WAIC, step 1100.\n",
      "Iterating to compute WAIC, step 1200.\n",
      "Iterating to compute WAIC, step 1300.\n",
      "Iterating to compute WAIC, step 1400.\n",
      "Iterating to compute WAIC, step 1500.\n",
      "Iterating to compute WAIC, step 1600.\n",
      "Iterating to compute WAIC, step 1700.\n",
      "Iterating to compute WAIC, step 1800.\n",
      "Iterating to compute WAIC, step 1900.\n",
      "Finished WAIC\n",
      "1000 Trials.\n",
      "Starting inference.\n"
     ]
    },
    {
     "name": "stderr",
     "output_type": "stream",
     "text": [
      "Mean ELBO 36139.80: 100%|██████████████████████████████████████████████████████████████████████████████████████████████████████████████████████████████████████████████████████| 3000/3000 [13:02<00:00,  3.84it/s]\n"
     ]
    },
    {
     "name": "stdout",
     "output_type": "stream",
     "text": [
      "Iterating to compute WAIC, step 0.\n",
      "Iterating to compute WAIC, step 100.\n",
      "Iterating to compute WAIC, step 200.\n",
      "Iterating to compute WAIC, step 300.\n",
      "Iterating to compute WAIC, step 400.\n",
      "Iterating to compute WAIC, step 500.\n",
      "Iterating to compute WAIC, step 600.\n",
      "Iterating to compute WAIC, step 700.\n",
      "Iterating to compute WAIC, step 800.\n",
      "Iterating to compute WAIC, step 900.\n",
      "Iterating to compute WAIC, step 1000.\n",
      "Iterating to compute WAIC, step 1100.\n",
      "Iterating to compute WAIC, step 1200.\n",
      "Iterating to compute WAIC, step 1300.\n",
      "Iterating to compute WAIC, step 1400.\n",
      "Iterating to compute WAIC, step 1500.\n",
      "Iterating to compute WAIC, step 1600.\n",
      "Iterating to compute WAIC, step 1700.\n",
      "Iterating to compute WAIC, step 1800.\n",
      "Iterating to compute WAIC, step 1900.\n",
      "Finished WAIC\n"
     ]
    }
   ],
   "source": [
    "num_trials = [1,3,10,30,100,300,1000]\n",
    "waics_pyro = []\n",
    "pwaics_pyro = []\n",
    "\n",
    "for trials in num_trials:\n",
    "    num_inf_steps = 3000\n",
    "    \n",
    "    agent = Coinflip_agent(num_agents)\n",
    "    coinflip_data = torch.tensor(np.random.choice([0, 1], \n",
    "                                                  p = [1-phead, phead], \n",
    "                                                  size = (num_agents, trials))) # 0 heads, 1 tails\n",
    "    infer = CoinflipGroupInference(agent, coinflip_data)\n",
    "    infer.infer_posterior(iter_steps = num_inf_steps, num_particles = 10)\n",
    "\n",
    "    num_waic_samples = 2000\n",
    "    WAIC, loglike, waic_var, pwaic = infer.compute_IC(num_samples = num_waic_samples)\n",
    "\n",
    "    waics_pyro.append(WAIC)\n",
    "    pwaics_pyro.append(pwaic)\n"
   ]
  },
  {
   "cell_type": "code",
   "execution_count": 17,
   "id": "ab41404b-9785-4ee2-8d44-d2ef8deba49a",
   "metadata": {},
   "outputs": [
    {
     "data": {
      "image/png": "[encoded data removed]",
      "text/plain": [
       "<Figure size 640x480 with 1 Axes>"
      ]
     },
     "metadata": {},
     "output_type": "display_data"
    },
    {
     "data": {
      "image/png": "[encoded data removed]",
      "text/plain": [
       "<Figure size 640x480 with 1 Axes>"
      ]
     },
     "metadata": {},
     "output_type": "display_data"
    }
   ],
   "source": [
    "import matplotlib.pyplot as plt\n",
    "plt.plot(num_trials, waics_pyro)\n",
    "plt.xlabel('number of trials')\n",
    "plt.ylabel('WAIC')\n",
    "plt.title('WAIC')\n",
    "plt.show()\n",
    "\n",
    "plt.plot(num_trials, pwaics_pyro)\n",
    "plt.title('pwaic')\n",
    "plt.xlabel('number of trials')\n",
    "plt.ylabel('pwaic')\n",
    "plt.show()"
   ]
  },
  {
   "cell_type": "code",
   "execution_count": null,
   "id": "c7530b9b-a066-4c6c-8e53-dd82cf4355b3",
   "metadata": {},
   "outputs": [],
   "source": []
  }
 ],
 "metadata": {
  "kernelspec": {
   "display_name": "Python 3 (ipykernel)",
   "language": "python",
   "name": "python3"
  },
  "language_info": {
   "codemirror_mode": {
    "name": "ipython",
    "version": 3
   },
   "file_extension": ".py",
   "mimetype": "text/x-python",
   "name": "python",
   "nbconvert_exporter": "python",
   "pygments_lexer": "ipython3",
   "version": "3.11.6"
  }
 },
 "nbformat": 4,
 "nbformat_minor": 5
}
